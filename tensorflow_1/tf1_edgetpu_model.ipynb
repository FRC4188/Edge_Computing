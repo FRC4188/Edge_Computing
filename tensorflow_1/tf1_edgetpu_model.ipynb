{
  "cells": [
    {
      "cell_type": "markdown",
      "metadata": {
        "colab_type": "text",
        "id": "view-in-github"
      },
      "source": [
        "<a href=\"https://colab.research.google.com/github/FRC4188/Edge_Computing/blob/main/tf1_edgetpu_model.ipynb\" target=\"_parent\"><img src=\"https://colab.research.google.com/assets/colab-badge.svg\" alt=\"Open In Colab\"/></a>"
      ]
    },
    {
      "cell_type": "markdown",
      "metadata": {
        "id": "asRMlHPUG-9i"
      },
      "source": [
        "# Setup"
      ]
    },
    {
      "cell_type": "markdown",
      "metadata": {
        "id": "QKRf9LI6JMvm"
      },
      "source": [
        "Make Directories"
      ]
    },
    {
      "cell_type": "code",
      "execution_count": null,
      "metadata": {
        "id": "1wxei2pHJL3J"
      },
      "outputs": [],
      "source": [
        "MODEL_DIR = 'model/'\n",
        "PRETRAINED_DIR = MODEL_DIR + 'pretrained/'\n",
        "CUSTOM_DIR = MODEL_DIR + 'custom/'\n",
        "EXPORT_DIR = CUSTOM_DIR + 'export/'\n",
        "DATASET_DIR = 'dataset/'\n",
        "COMPILED_DATASET_DIR = MODEL_DIR + 'dataset/'\n",
        "\n",
        "%mkdir {MODEL_DIR} \n",
        "%mkdir {PRETRAINED_DIR}\n",
        "%mkdir {CUSTOM_DIR}\n",
        "%mkdir {EXPORT_DIR}\n",
        "%mkdir {DATASET_DIR}\n",
        "%mkdir {COMPILED_DATASET_DIR}"
      ]
    },
    {
      "cell_type": "markdown",
      "metadata": {
        "id": "U3OLQupkHROv"
      },
      "source": [
        "Switch to Tensorflow 1.x (deprecated August 1, 2022 at time of writing). Use one or the other, not both"
      ]
    },
    {
      "cell_type": "code",
      "execution_count": null,
      "metadata": {
        "id": "d_TEJUumHK6M"
      },
      "outputs": [],
      "source": [
        "%tensorflow_version 1.x"
      ]
    },
    {
      "cell_type": "code",
      "execution_count": null,
      "metadata": {
        "id": "pjo3NFd4zH4-"
      },
      "outputs": [],
      "source": [
        "!pip install --upgrade tensorflow-gpu==1.15.2"
      ]
    },
    {
      "cell_type": "markdown",
      "metadata": {
        "id": "9XnOrYsDI0No"
      },
      "source": [
        "Install Libraries"
      ]
    },
    {
      "cell_type": "code",
      "execution_count": null,
      "metadata": {
        "id": "SVi6mTA7HbBn"
      },
      "outputs": [],
      "source": [
        "!git clone --quiet https://github.com/tensorflow/models.git\n",
        "\n",
        "!pip install tf_slim\n",
        "\n",
        "!apt-get install -qq protobuf-compiler python-pil python-lxml python-tk\n",
        "\n",
        "!pip install -q Cython contextlib2 pillow lxml matplotlib\n",
        "\n",
        "!pip install -q pycocotools\n",
        "\n",
        "!pip install lvis\n",
        "\n",
        "!cd models/research && protoc object_detection/protos/*.proto --python_out=. && cp object_detection/packages/tf1/setup.py . && pip install .\n",
        "\n",
        "import os\n",
        "os.environ['PYTHONPATH'] += ':/content/models/research/:/content/models/research/slim/'\n",
        "\n",
        "!pip install numpy==1.19.5\n",
        "!pip uninstall -y pycocotools\n",
        "!pip install pycocotools --no-binary pycocotools"
      ]
    },
    {
      "cell_type": "markdown",
      "metadata": {
        "id": "VdDfAK2nJIPq"
      },
      "source": [
        "Test Setup (look for OK at end)"
      ]
    },
    {
      "cell_type": "code",
      "execution_count": null,
      "metadata": {
        "id": "mKPMYxIgI7xN"
      },
      "outputs": [],
      "source": [
        "!python models/research/object_detection/builders/model_builder_tf1_test.py"
      ]
    },
    {
      "cell_type": "markdown",
      "metadata": {
        "id": "llbbR2S1SpLc"
      },
      "source": [
        "#Import Dataset"
      ]
    },
    {
      "cell_type": "markdown",
      "metadata": {
        "id": "dsuxMRyInmON"
      },
      "source": [
        "1. Collect pictures and/or videos of the object(s) you are trying to detect. Make sure you get it in various lightings and backgrounds so that your model can generalize the object when it is detecting it. \n",
        "\n",
        "2. Make sure the pictures are in `.jpg`, `.png`, `.bmp ` format and videos are in `.mp4`, `.mov`, `.avi` format. \n",
        "\n",
        "3. Navigate to [Roboflow](https://app.roboflow.com/) and create an account. Roboflow is an online annotator that allows us to configure our dataset for training. Follow all the steps to create an account. Then, make a new project and give it an appropriate name. Next, give the annotation group an appropriate name. For example, if I were trying to detect different brand of cars like Ford, Nissan or BMW, I would name the annotation group \"car brands\". \n",
        "\n",
        "4. Go inside your project and begin uploading the pictures and/or videos you took into the dataset by clicking the \"Upload\" tab. After it has loaded all of it in, click the green \"Finish Uploading\" button in the upper righthand corner. A pop-up will appear, prompting you to split the dataset into train, validation, and test sets. Change it if necessary. \n",
        "\n",
        "5. Begin annotating the dataset. Click onto an image and select the box tool. Draw a box around your object and only the object. Try to isolate it as much as possible, but do not worry about being perfect. Once the box has been drawn, make sure to give it an appropriate identifying class name. Once you've done so, you can reuse the class name when annotating other images of the same type. For a large dataset, annotating can be tedious. However, if you have labeled enough, you will be able to quickly train a dataset based on what you've annotated so far. It can then attempt to label your images for you and you just have to check through for any missed or incorrect labels. Also, if your object is general enough, you can use one that is built-in. \n",
        "\n",
        "6. Export your model version. Navigate out of the images by clicking the back arrow and then click \"Dataset\" on the sidebar. Generate a new version. You can add preprocessing steps in order to improve your training. Once you've chosen the desired steps, you can also choose augmentation steps. This will increase the generality of your model, i.e. how effective your model is in a variety of situations. Go to the next step and generate the model. When the version has finished generating, click on the version you just created and click \"Export\". On format, select \"TFRecords\". Also, select \"show download code\". Make sure to select \"Terminal\". Copy all the text in the box and paste it into the below form."
      ]
    },
    {
      "cell_type": "markdown",
      "metadata": {
        "id": "jHTyPfeYU1qm"
      },
      "source": [
        "Download dataset from Roboflow"
      ]
    },
    {
      "cell_type": "code",
      "execution_count": null,
      "metadata": {
        "id": "iD__gMPpNW8W"
      },
      "outputs": [],
      "source": [
        "DOWNLOAD_COMMAND = \"curl -L \\\"https://app.roboflow.com/ds/Wd8kVxzsdN?key=Rj2UTtkvU9\\\" > roboflow.zip; unzip roboflow.zip; rm roboflow.zip\" #@param {type:\"string\"}\n",
        "!cd dataset && {DOWNLOAD_COMMAND}"
      ]
    },
    {
      "cell_type": "markdown",
      "metadata": {
        "id": "7JGyNbItU6i_"
      },
      "source": [
        "Move dataset files and rename them"
      ]
    },
    {
      "cell_type": "code",
      "execution_count": null,
      "metadata": {
        "id": "1FVSSWbLS7mV"
      },
      "outputs": [],
      "source": [
        "TRAIN_FILE = COMPILED_DATASET_DIR + 'test.tfrecord'\n",
        "TEST_FILE = COMPILED_DATASET_DIR + 'train.tfrecord'\n",
        "LABELS_FILE = COMPILED_DATASET_DIR + 'labels.pbtxt'\n",
        "\n",
        "!cp dataset/test/*.tfrecord {TRAIN_FILE}\n",
        "!cp dataset/train/*.tfrecord {TEST_FILE}\n",
        "!cp dataset/train/*.pbtxt {LABELS_FILE}"
      ]
    },
    {
      "cell_type": "markdown",
      "metadata": {
        "id": "8NoczC3nVBDC"
      },
      "source": [
        "# Download Pretrained Model"
      ]
    },
    {
      "cell_type": "markdown",
      "metadata": {
        "id": "TZILNWTnV-S3"
      },
      "source": [
        "Download `ssd_mobilenet_v2_quantized_300x300_coco_2019_01_03` model from Tensorflow 1 Model Zoo"
      ]
    },
    {
      "cell_type": "code",
      "execution_count": null,
      "metadata": {
        "id": "66cz6gaDVEov"
      },
      "outputs": [],
      "source": [
        "MODEL_LINK = 'http://download.tensorflow.org/models/object_detection/ssd_mobilenet_v2_quantized_300x300_coco_2019_01_03.tar.gz' #@param {type:\"string\"}\n",
        "\n",
        "!cd {PRETRAINED_DIR} && wget {MODEL_LINK}"
      ]
    },
    {
      "cell_type": "markdown",
      "metadata": {
        "id": "115IHdWqWYMc"
      },
      "source": [
        "Extract model folder from file "
      ]
    },
    {
      "cell_type": "code",
      "execution_count": null,
      "metadata": {
        "id": "kRGdi7XxWX00"
      },
      "outputs": [],
      "source": [
        "!cd {PRETRAINED_DIR} && tar -zxvf *.tar.gz"
      ]
    },
    {
      "cell_type": "markdown",
      "metadata": {
        "id": "seSUQZLaYBGA"
      },
      "source": [
        "# Configure pipeline file"
      ]
    },
    {
      "cell_type": "markdown",
      "metadata": {
        "id": "bE6zuIEJi_1Q"
      },
      "source": [
        "Input number of training steps"
      ]
    },
    {
      "cell_type": "code",
      "execution_count": null,
      "metadata": {
        "id": "BzL8_91ti2tv"
      },
      "outputs": [],
      "source": [
        "NUM_TRAIN_STEPS = 1500 #@param {type:\"integer\"}\n",
        "NUM_EVAL_STEPS = int(NUM_TRAIN_STEPS / 15)"
      ]
    },
    {
      "cell_type": "markdown",
      "metadata": {
        "id": "TVnVcTCxytDy"
      },
      "source": [
        "Collect Directories"
      ]
    },
    {
      "cell_type": "code",
      "execution_count": null,
      "metadata": {
        "id": "J1DZEr0gXLXO"
      },
      "outputs": [],
      "source": [
        "MODEL_NAME = MODEL_LINK[MODEL_LINK.index('_detection/') + 11 : MODEL_LINK.index('.tar.gz')]\n",
        "\n",
        "CHECKPOINTS_DIR = PRETRAINED_DIR + MODEL_NAME + '/model.ckpt'\n",
        "CONFIG_FILE = PRETRAINED_DIR + MODEL_NAME + '/pipeline.config' \n",
        "CUSTOM_CONFIG_FILE = CUSTOM_DIR + \"pipeline.config\""
      ]
    },
    {
      "cell_type": "markdown",
      "metadata": {
        "id": "Xvx5cS2SywZm"
      },
      "source": [
        "Count number of classes from labels file"
      ]
    },
    {
      "cell_type": "code",
      "execution_count": null,
      "metadata": {
        "id": "r9TqV5COYEOd"
      },
      "outputs": [],
      "source": [
        "def get_num_classes(pbtxt_fname):\n",
        "  from object_detection.utils import label_map_util\n",
        "  label_map = label_map_util.load_labelmap(pbtxt_fname)\n",
        "  categories = label_map_util.convert_label_map_to_categories(\n",
        "    label_map, max_num_classes=90, use_display_name=True)\n",
        "  category_index = label_map_util.create_category_index(categories)\n",
        "  return len(category_index.keys())"
      ]
    },
    {
      "cell_type": "markdown",
      "metadata": {
        "id": "7biQkJI0yz_6"
      },
      "source": [
        "Configure pipeline file"
      ]
    },
    {
      "cell_type": "code",
      "execution_count": null,
      "metadata": {
        "id": "7JkU12dvYGSz"
      },
      "outputs": [],
      "source": [
        "import tensorflow as tf\n",
        "from object_detection.utils import config_util\n",
        "from object_detection.protos import pipeline_pb2\n",
        "from google.protobuf import text_format\n",
        "\n",
        "config = config_util.get_configs_from_pipeline_file(CONFIG_FILE)\n",
        "\n",
        "pipeline_config = pipeline_pb2.TrainEvalPipelineConfig()\n",
        "with tf.io.gfile.GFile(CONFIG_FILE, \"r\") as f:                                                                                                                                                                                                                     \n",
        "  proto_str = f.read()                                                                                                                                                                                                                                          \n",
        "  text_format.Merge(proto_str, pipeline_config)  \n",
        "\n",
        "pipeline_config.model.ssd.num_classes = get_num_classes(LABELS_FILE)\n",
        "pipeline_config.train_config.batch_size = 16\n",
        "pipeline_config.train_config.num_steps = NUM_TRAIN_STEPS\n",
        "pipeline_config.train_config.fine_tune_checkpoint = CHECKPOINTS_DIR\n",
        "pipeline_config.train_input_reader.label_map_path = LABELS_FILE\n",
        "pipeline_config.train_input_reader.tf_record_input_reader.input_path[:] = [TRAIN_FILE]\n",
        "pipeline_config.eval_input_reader[0].label_map_path = LABELS_FILE\n",
        "pipeline_config.eval_input_reader[0].tf_record_input_reader.input_path[:] = [TEST_FILE]\n",
        "pipeline_config.eval_config.include_metrics_per_category = False\n",
        "pipeline_config.eval_config.num_examples = NUM_EVAL_STEPS\n",
        "\n",
        "config_text = text_format.MessageToString(pipeline_config)                                                                                                                                                                                                        \n",
        "with tf.io.gfile.GFile(CUSTOM_CONFIG_FILE, \"wb\") as f:                                                                                                                                                                                                                     \n",
        "    f.write(config_text)   "
      ]
    },
    {
      "cell_type": "markdown",
      "metadata": {
        "id": "v8tnDuoBy4YY"
      },
      "source": [
        "View file"
      ]
    },
    {
      "cell_type": "code",
      "execution_count": null,
      "metadata": {
        "id": "HIC1QlXHdVLX"
      },
      "outputs": [],
      "source": [
        "!cat {CUSTOM_CONFIG_FILE}"
      ]
    },
    {
      "cell_type": "markdown",
      "metadata": {
        "id": "7u4mtS3-do-U"
      },
      "source": [
        "# Train the model"
      ]
    },
    {
      "cell_type": "code",
      "execution_count": null,
      "metadata": {
        "id": "5dbxqd4AeMON"
      },
      "outputs": [],
      "source": [
        "OVERRIDE_TRAIN_STEPS = 0#@param {type:\"integer\"}\n",
        "OVERRIDE_EVAL_STEPS = OVERRIDE_TRAIN_STEPS / 15\n",
        "\n",
        "!python /content/models/research/object_detection/model_main.py \\\n",
        "  --pipeline_config_path={CUSTOM_CONFIG_FILE} \\\n",
        "  --model_dir={CUSTOM_DIR} \\\n",
        "  --num_train_steps={OVERRIDE_TRAIN_STEPS} \\\n",
        "  --num_eval_steps={OVERRIDE_EVAL_STEPS} \\\n",
        "  --alsologtostderr\n"
      ]
    },
    {
      "cell_type": "markdown",
      "metadata": {
        "id": "QsaeS8Ix1-Cw"
      },
      "source": [
        "# View training and validation with Tensorboard"
      ]
    },
    {
      "cell_type": "code",
      "execution_count": null,
      "metadata": {
        "id": "tLYLd9eD2CVa"
      },
      "outputs": [],
      "source": [
        "%tensorboard --logdir {CUSTOM_DIR + 'events.out.*'}"
      ]
    },
    {
      "cell_type": "markdown",
      "metadata": {
        "id": "qRAuf7-JnLnK"
      },
      "source": [
        "# Export for TFLite"
      ]
    },
    {
      "cell_type": "code",
      "execution_count": null,
      "metadata": {
        "id": "YrkxXL7_m8Fo"
      },
      "outputs": [],
      "source": [
        "!python models/research/object_detection/export_tflite_ssd_graph.py \\\n",
        "  --pipeline_config_path {pipeline_fname} \\\n",
        "  --trained_checkpoint_prefix {CUSTOM_DIR + 'model.ckpt-' + NUM_TRAIN_STEPS} \\\n",
        "  --output_directory {EXPORT_DIR} \\\n",
        "  --add_postprocessing_op"
      ]
    },
    {
      "cell_type": "markdown",
      "metadata": {
        "id": "qZoIkPGLnkKO"
      },
      "source": [
        "# Convert to TFLite"
      ]
    },
    {
      "cell_type": "code",
      "execution_count": null,
      "metadata": {
        "id": "HKdwUaSNnlng"
      },
      "outputs": [],
      "source": [
        "INPUT_NAME = 'serving_default_input:0'\n",
        "OUT0_NAME = 'StatefulPartitionedCall:3;StatefulPartitionedCall:2;StatefulPartitionedCall:1;StatefulPartitionedCall:0'\n",
        "OUT1_NAME = 'StatefulPartitionedCall:3;StatefulPartitionedCall:2;StatefulPartitionedCall:1;StatefulPartitionedCall:01'\n",
        "OUT2_NAME = 'StatefulPartitionedCall:3;StatefulPartitionedCall:2;StatefulPartitionedCall:1;StatefulPartitionedCall:02'\n",
        "OUT3_NAME = 'StatefulPartitionedCall:3;StatefulPartitionedCall:2;StatefulPartitionedCall:1;StatefulPartitionedCall:03'\n",
        "OUTPUT_NAME = OUT0_NAME + ',' + OUT1_NAME + ',' + OUT2_NAME + ',' + OUT3_NAME\n",
        "\n",
        "!tflite_convert \\\n",
        "  --output_file {EXPORT_DIR + 'tflite/converted.tflite'} \\\n",
        "  --graph_def_file {EXPORT_DIR + 'tflite/tflite_graph.pb'} \\\n",
        "  --inference_type QUANTIZED_UINT8 \\\n",
        "  --input_arrays {INPUT_NAME} \\\n",
        "  --output_arrays {OUTPUT_NAME}\\\n",
        "  --mean_values=128 \\\n",
        "  --std_dev_values=128 \\\n",
        "  --input_shapes=1,300,300,3 \\\n",
        "  --change_concat_input_ranges False \\\n",
        "  --allow_nudging_weights_to_use_fast_gemm_kernel True \\\n",
        "  --allow_custom_ops"
      ]
    },
    {
      "cell_type": "markdown",
      "metadata": {
        "id": "pOtComs5pvlI"
      },
      "source": [
        "# Convert to EdgeTPU"
      ]
    },
    {
      "cell_type": "code",
      "execution_count": null,
      "metadata": {
        "id": "Ol09a4DRpxZs"
      },
      "outputs": [],
      "source": [
        "!curl https://packages.cloud.google.com/apt/doc/apt-key.gpg | sudo apt-key add -\n",
        "!echo \"deb https://packages.cloud.google.com/apt coral-edgetpu-stable main\" | sudo tee /etc/apt/sources.list.d/coral-edgetpu.list\n",
        "!sudo apt-get update\n",
        "!sudo apt-get install edgetpu-compiler\t"
      ]
    },
    {
      "cell_type": "code",
      "execution_count": null,
      "metadata": {
        "id": "cL2aBM_6pziM"
      },
      "outputs": [],
      "source": [
        "!edgetpu_compiler {EXPORT_DIR + 'tflite/converted.tflite'}"
      ]
    }
  ],
  "metadata": {
    "colab": {
      "authorship_tag": "ABX9TyP+xh4kjGIvHz47tw+wSQCo",
      "include_colab_link": true,
      "name": "tf1_edgetpu_model.ipynb",
      "provenance": []
    },
    "gpuClass": "standard",
    "kernelspec": {
      "display_name": "Python 3.9.8 64-bit",
      "language": "python",
      "name": "python3"
    },
    "language_info": {
      "name": "python",
      "version": "3.9.8"
    },
    "vscode": {
      "interpreter": {
        "hash": "1fd0f926888250844813bd4a05b0806eb5b057604e066d51d26711b9b972b117"
      }
    }
  },
  "nbformat": 4,
  "nbformat_minor": 0
}
